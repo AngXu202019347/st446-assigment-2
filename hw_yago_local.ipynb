{
  "cells": [
    {
      "cell_type": "markdown",
      "metadata": {
        "id": "dIikFr7cAFkq"
      },
      "source": [
        "# ST446 Distributed Computing for Big Data\n",
        "## Assignment 2 - PART 1\n",
        "---\n",
        "\n",
        "**We highly recommend using GCP, as the data sets used are about 20 GB in total.** Alternatively, you can use your own computer.\n",
        "\n",
        "## P1: Querying the YAGO semantic knowledge base\n",
        "\n",
        "YAGO is a semantic knowledge base, derived from Wikipedia, WordNet and GeoNames (in its Version 1). YAGO contains knowledge about more than 10 million entities (like persons, organizations and cities) and contains more than 120 million facts about these entities. You may find more about YAGO [here](https://www.mpi-inf.mpg.de/departments/databases-and-information-systems/research/yago-naga/yago/#c10444).\n",
        "\n",
        "In this assignment, you are asked to use parts of the YAGO dataset to demonstrate your knowledge about Spark GraphFrames and motif queries. In particular, you are asked to **_use motif queries_** to find out answers to the following queries stated in English:\n",
        "\n",
        "**A (max points 10)**. _Politicians who are also scientists_ (sorted alphabetically by name of person)\n",
        "\n",
        "**B (max points 10)**. _Companies whose founders were born in London_ (sorted alphabetically by name of founder)\n",
        "\n",
        "**C (max points 10)**. _Writers who have won a Nobel Prize (in any discipline)_ (sorted alphabetically by name of person)\n",
        "\n",
        "**D (max points 10)**. _Nobel prize winners who were born in the same city as their spouses_ (sorted alphabetically by name of person)\n",
        "\n",
        "**E (max points 10)**. _Politicians that are affiliated with a right-wing party_ (sorted alphabetically by name of person)\n",
        "\n",
        "Please always show the first 20 entries of the resulting DataFrame and the total count of relevant entries."
      ]
    },
    {
      "cell_type": "markdown",
      "metadata": {
        "id": "fz6Fy6jfAFkr"
      },
      "source": [
        "---\n",
        "\n",
        "## 0.1 Get YAGO data\n",
        "\n",
        "* You will need to download the following datasets that are part of YAGO (see [here](https://www.mpi-inf.mpg.de/departments/databases-and-information-systems/research/yago-naga/yago/downloads/) for more information):\n",
        "\n",
        "    * A set of relationships between instances (for example, specifying that Emomali Rahmon is the leader of the Military of Tajikistan). Link: http://resources.mpi-inf.mpg.de/yago-naga/yago3.1/yagoFacts.tsv.7z\n",
        "\n",
        "    * A set of subclass relationships (for example, specifying that *A1086* is *a road in England*, or that *Salmonella Dub* is *a Reggae music group* and also a *New Zealand dub musical group*). Link: http://resources.mpi-inf.mpg.de/yago-naga/yago3.1/yagoTransitiveType.tsv.7z\n",
        "\n",
        "* Use `wget` to download the data into the master node of your Dataproc cluster (the files are big!).\n",
        "\n",
        "* Next, you will need to extract `tsv` files from the `7z` archives that you have downloaded. Use the following commands to install `p7zip` on your Dataproc cluster and extract the files. Please note that this can take a while, in particular as `yagoTransitiveType.tsv` is **18GB** large.\n",
        "\n",
        "* Put the files (`yagoTransitiveType.tsv` and `yagoFacts.tsv`) into the Hadoop file system. \n",
        "\n",
        "```\n",
        "wget http://resources.mpi-inf.mpg.de/yago-naga/yago3.1/yagoFacts.tsv.7z\n",
        "wget http://resources.mpi-inf.mpg.de/yago-naga/yago3.1/yagoTransitiveType.tsv.7z\n",
        "sudo apt-get install p7zip-full\n",
        "7z x yagoTransitiveType.tsv.7z \n",
        "7z x yagoFacts.tsv.7z\n",
        "hadoop fs -put ./ /yago\n",
        "```\n",
        "\n",
        "Also, have a look at their first few lines to understand what kind of data they contain (you need this to infer the schemas).\n",
        "\n",
        "```\n",
        "head yagoTransitiveType.tsv\n",
        "head yagoFacts.tsv\n",
        "```"
      ]
    },
    {
      "cell_type": "markdown",
      "metadata": {
        "id": "kPkTqjAFAFks"
      },
      "source": [
        "## 0.2 Read the data into a Spark DataFrame\n",
        "\n",
        "Please load the data from `yagoFacts.tsv` into a DataFrame called `df` and `yagoTransitiveType.tsv` into a DataFrame called `df_subclasses`.\n",
        "\n",
        "Have a look at the beginning of the files to understand the schema. Once imported, both DataFrames should have columns labelled as `id`, `subject`, `predicate`, `object` and `value`.\n",
        "In the case of `yagoTransitiveType.tsv`, some of the predicates can be understood as *is a subclass of* or *is a member of the class*, and the objects can be understood as classes."
      ]
    },
    {
      "cell_type": "code",
      "execution_count": null,
      "metadata": {
        "collapsed": true,
        "id": "cJO_frZGAFkt"
      },
      "outputs": [],
      "source": [
        "from pyspark.sql.types import *\n",
        "\n",
        "# your code => remember to include the schema"
      ]
    },
    {
      "cell_type": "markdown",
      "metadata": {
        "id": "G5aQpS0hAFkt"
      },
      "source": [
        "## 0.3 Understand the database schema\n",
        "\n",
        "Let's look at the schema:"
      ]
    },
    {
      "cell_type": "code",
      "execution_count": null,
      "metadata": {
        "id": "DYvpJFWnAFku",
        "outputId": "d5eb7d89-e582-4096-d643-4a52a4e55b67"
      },
      "outputs": [],
      "source": [
        "# your code"
      ]
    },
    {
      "cell_type": "markdown",
      "metadata": {},
      "source": [
        "The output should be similar to that:\n",
        "\n",
        "```\n",
        "YAGO Facts schema:\n",
        "\n",
        "root\n",
        " |-- id: string (nullable = true)\n",
        " |-- subject: string (nullable = true)\n",
        " |-- predicate: string (nullable = true)\n",
        " |-- object: string (nullable = true)\n",
        " |-- value: double (nullable = true)\n",
        "\n",
        "YAGO TransitiveType schema:\n",
        "\n",
        "root\n",
        " |-- id: string (nullable = true)\n",
        " |-- subject: string (nullable = true)\n",
        " |-- predicate: string (nullable = true)\n",
        " |-- object: string (nullable = true)\n",
        " |-- value: double (nullable = true)\n",
        " ```"
      ]
    },
    {
      "cell_type": "markdown",
      "metadata": {
        "id": "ULK0aipvAFku"
      },
      "source": [
        "The useful information is in columns `subject`, `predicate` and `object`. **predicate** defines the relation between entities **subject** and **object**. For example, for *Albert Einstein was born in Ulm*, `Albert Einstein` is the subject, `was born in` is the predicate and `Ulm` is the object."
      ]
    },
    {
      "cell_type": "markdown",
      "metadata": {
        "id": "rWlhiNH8AFkv"
      },
      "source": [
        "## 0.4 Simple query example\n",
        "\n",
        "To get information about where Albert Einstein was born, we can load data into Spark using the following queries:"
      ]
    },
    {
      "cell_type": "code",
      "execution_count": null,
      "metadata": {
        "id": "SZiOTz8aAFkv",
        "outputId": "eebcd600-e82a-4de1-a356-b832a493306f"
      },
      "outputs": [],
      "source": [
        "# checking for predicate `was born in`\n",
        "born_city_df = df.where(\"predicate == '<wasBornIn>'\")\n",
        "born_city_df.show(1)"
      ]
    },
    {
      "cell_type": "code",
      "execution_count": null,
      "metadata": {
        "id": "gPKj9hu3AFkw",
        "outputId": "b5cf2fea-3c1e-456b-abb5-b48f5b48ef72"
      },
      "outputs": [],
      "source": [
        "# checking for subject\n",
        "born_city_df.where(\"subject = '<Albert_Einstein>'\").show()"
      ]
    },
    {
      "cell_type": "markdown",
      "metadata": {
        "id": "k88MMFJ-AFkw"
      },
      "source": [
        "You may wonder how one would know whether to use the predicate '&lt;wasBornIn&gt;' or '&lt;was_born_in&gt;' and subject '&lt;Albert_Einstein&gt;' or '&lt;AlbertEinstein&gt;'. \n",
        "\n",
        "For YAGO subjects (and objects), the naming is aligned with Wikipedia. For example, Albert Einstein's wiki is: https://en.wikipedia.org/wiki/Albert_Einstein and you can see it is 'Albert_Einstein'. \n",
        "\n",
        "For predicates, you can look at the \"property\" list from the [Yago Web interface](https://yago-knowledge.org/) or the documentation on the TAXONOMY theme ([here](https://www.mpi-inf.mpg.de/departments/databases-and-information-systems/research/yago-naga/yago/downloads)).\n",
        "\n",
        "Try different queries with this Web interface query to understand more how to query YAGO."
      ]
    },
    {
      "cell_type": "markdown",
      "metadata": {
        "id": "5uLuSmGuAFkw"
      },
      "source": [
        "## 0.5 Simple motif example\n",
        "\n",
        "To find out \"Which city was Albert Einstein born in?\", we can use the following motif query on the first dataframe (`df`):"
      ]
    },
    {
      "cell_type": "code",
      "execution_count": null,
      "metadata": {
        "id": "hOmxi3b1AFkx",
        "outputId": "5adb3f26-5c02-410c-fc16-4d67d96c9eee"
      },
      "outputs": [],
      "source": [
        "from graphframes import *\n",
        "\n",
        "# helper function to filter nodes (vertices) by subject and object, and establish edges\n",
        "def vertices_edges_split(df, condition):\n",
        "    sub = df.filter(condition).select(\"subject\").withColumnRenamed(\"subject\",\"id\")\n",
        "    obj = df.filter(condition).select(\"object\").withColumnRenamed(\"object\",\"id\")\n",
        "    v = sub.union(obj).distinct()\n",
        "    e = df.filter(condition).select(\"subject\",\"object\",\"predicate\")\\\n",
        "    .withColumnRenamed(\"subject\",\"src\").withColumnRenamed(\"object\",\"dst\")\n",
        "    return v, e\n",
        "\n",
        "# build a graph filtering by Albert Einstein\n",
        "v, e = vertices_edges_split(df, \"subject='<Albert_Einstein>'\")\n",
        "g = GraphFrame(v, e)\n",
        "# find all relationships where Albert Einstein is the subject...\n",
        "motifs = g.find(\"(a)-[e]->(b)\")\n",
        "# ... and the predicate is `was born in`\n",
        "res = motifs.filter(\"e.predicate='<wasBornIn>'\")\n",
        "res.show()"
      ]
    },
    {
      "cell_type": "markdown",
      "metadata": {
        "id": "wmd1E8UGAFkx"
      },
      "source": [
        "## 0.6 Some useful tips\n",
        "\n",
        "### Get a subset of YAGO database\n",
        "YAGO database is large, so we don't try to load the entire database into a dataframe and then query it. If you do this, you will find that you won't even be able to execute `df.take(1)`, as it would take up too much of space (at least on a laptop). Instead, you use Spark SQL commands or `df.where` to get a suitable fraction of the data.\n",
        "\n",
        "### Try the queries in the YAGO Web interface first\n",
        "It is sometimes tricky to get the right \"subject\", \"predicate\" and \"object\". It is easier if you start from [Yago Web interface](https://yago-knowledge.org/) rather than directly querying in PySpark. Once your query works, you can convert your query to PySpark code. \n",
        "\n",
        "Note that sometimes the Web version of object/subject code may be different from what you need to type here. For example, company code is &lt;wordnet_company_108058098&gt; when you do the query here but when you do it via the web interface it is &lt;wordnet company 108058098&gt;. \n",
        "\n",
        "### Be patient and don't do this exercise in the last minute\n",
        "Some trial and error is needed to get the query right and it may take some time get the result for a query. For these reasons, we advise you not to wait to work out this exercise just before the submission deadline. "
      ]
    },
    {
      "cell_type": "markdown",
      "metadata": {
        "id": "dcG2wA0eAFky"
      },
      "source": [
        "---\n",
        "\n",
        "## 1. Politicians who are also scientists (Question A)\n",
        "Find all politicians who are also scientists. Output top 20 of them. How many people are in the dataset who are both scientists and politicians?\n",
        "\n",
        "Please follow these steps:\n",
        "* Operate on the subsets of `df_subclasses` where the objects are `'<wordnet_scientist_110560637>` (scientists) and `'<wordnet_politician_110450303>'` (politicians), and where the predicates are `rdf:type`.\n",
        "* Use graphframes and the right parts of `df_subclasses` to construct a graph whose (directed) edges point from subjects to objects. Hence, its source vertices are subjects and it destination vertices are objects. It may be convenient to use intermediate DataFrames and join all the required dataframes of edges and vertices.\n",
        "* The subjects will be people and the objects will be classes (e.g., scientists, politicians).\n",
        "* Use a motif query to find all instances that fulfil the criteria specified in the question.\n",
        "* It is a good idea to define a function that takes a DataFrame and outputs a set of data frames for vertices and edges.\n",
        "\n",
        "Please sort the output alphabetically by the person column."
      ]
    },
    {
      "cell_type": "code",
      "execution_count": null,
      "metadata": {
        "id": "Pw_Nm8ygAFky",
        "outputId": "a6457139-256a-44b1-9071-18c7f622a548"
      },
      "outputs": [],
      "source": [
        "# your code\n"
      ]
    },
    {
      "cell_type": "markdown",
      "metadata": {
        "id": "83ldod3AAFk0"
      },
      "source": [
        "The total number of politicians that are also scientists is: 7182"
      ]
    },
    {
      "cell_type": "code",
      "execution_count": null,
      "metadata": {
        "id": "EYOjtDvIAFk0",
        "outputId": "58ac7ca2-0cfa-44b4-bb7f-d374f72e7a5e"
      },
      "outputs": [],
      "source": [
        "# your code\n"
      ]
    },
    {
      "cell_type": "markdown",
      "metadata": {
        "id": "7wEOj9sJAFk0"
      },
      "source": [
        "## 2. Companies whose founders were born in London (Question B)\n",
        "For companies, use `'<wordnet_company_108058098>'`. \n",
        "For *\"being founder\"*, use `predicate=<created>`.\n",
        "\n",
        "By now, you will understand which DataFrame to use for what. \n",
        "\n",
        "Set up a graph and use a motif query to find companies whose founders were born in London.\n",
        "Please take some time to figure out how a suitable configuration of nodes and edges should look like.  How many such companies are there in our dataset?\n",
        "\n",
        "Please sort the output alphabetically by the founder column."
      ]
    },
    {
      "cell_type": "code",
      "execution_count": null,
      "metadata": {
        "id": "GuS4COCqAFk0",
        "outputId": "a0ffbcb3-6e4a-4a1e-98c2-7e51b27a5cdc"
      },
      "outputs": [],
      "source": [
        "# your code\n"
      ]
    },
    {
      "cell_type": "markdown",
      "metadata": {
        "id": "LW1xpb2QAFk1"
      },
      "source": [
        "There are only 59 different companies, but 61 entries"
      ]
    },
    {
      "cell_type": "code",
      "execution_count": null,
      "metadata": {
        "id": "KnVRNhhwAFk1",
        "outputId": "b52ce9be-5a58-4efb-fc46-f9e3414490f1"
      },
      "outputs": [],
      "source": [
        "# your code"
      ]
    },
    {
      "cell_type": "markdown",
      "metadata": {
        "id": "ZEoKKWjTAFk2"
      },
      "source": [
        "## 3. Writers who have won a Nobel Prize in any discipline, including economics (Question C)\n",
        "Tags for nobel prizes look like these: `'<Nobel_Prize_in_Chemistry>`, `<Nobel_Prize_in_Physics>'`, `<Nobel_Prize>` or `<Nobel_Prize>` etc.\n",
        "We are also counting this one: `'<Nobel_Memorial_Prize_in_Economic_Sciences>'`.\n",
        "\n",
        "The tag for writers is `'<wordnet_writer_110794014>'`.\n",
        "\n",
        "You will need to use `'<hasWonPrize>'` as a predicate.\n",
        "\n",
        "Please sort the output alphabetically by the person column."
      ]
    },
    {
      "cell_type": "code",
      "execution_count": null,
      "metadata": {
        "id": "bC1i2AQjAFk2",
        "outputId": "58262e0c-e6e5-4a3b-b035-5ab170c108f7"
      },
      "outputs": [],
      "source": [
        "# your code\n"
      ]
    },
    {
      "cell_type": "markdown",
      "metadata": {
        "id": "4OZpUAkkAFk2"
      },
      "source": [
        "## 4. Nobel prize winners who were born in the same city as their spouses (Question D)\n",
        "You may find the predicate `'<isMarriedTo>'` useful to create a Dataframe of all mariages.\n",
        "Please also show the cities in which the Nobel laureates and their spouses were born.\n",
        "\n",
        "Please sort the output alphabetically by the person (prize winner) column."
      ]
    },
    {
      "cell_type": "code",
      "execution_count": null,
      "metadata": {
        "id": "1KZKbotoAFk2",
        "outputId": "52cc3fa9-0de2-4dd2-e78a-d54189abc2dc"
      },
      "outputs": [],
      "source": [
        "# your code\n"
      ]
    },
    {
      "cell_type": "markdown",
      "metadata": {
        "id": "naDOrDAVAFk3"
      },
      "source": [
        "## 5. Politicians that are affiliated with a right-wing party (Question E)\n",
        "\n",
        "We are looking for all connections of the form `polician -> party`, where party is a right-wing party and politicians are defined above. If one politician is associated with several right wing parties, you may count them several times.\n",
        "\n",
        "Use `'<isAffiliatedTo>'` to find membership in organisations and `'<wikicat_Right-wing_parties>'` for right-wing parties organisations.\n",
        "\n",
        "There are multiple ways to do this.\n",
        "\n",
        "Please sort the output alphabetically by the person (politician) column."
      ]
    },
    {
      "cell_type": "code",
      "execution_count": null,
      "metadata": {
        "id": "cbYNOW09AFk3",
        "outputId": "9c242097-a646-4ab4-f19b-240a5c426c1a"
      },
      "outputs": [],
      "source": [
        "# your code\n"
      ]
    }
  ],
  "metadata": {
    "anaconda-cloud": {},
    "colab": {
      "collapsed_sections": [],
      "name": "hw_yago_local.ipynb",
      "provenance": []
    },
    "kernelspec": {
      "display_name": "Python 3",
      "language": "python",
      "name": "python3"
    },
    "language_info": {
      "codemirror_mode": {
        "name": "ipython",
        "version": 3
      },
      "file_extension": ".py",
      "mimetype": "text/x-python",
      "name": "python",
      "nbconvert_exporter": "python",
      "pygments_lexer": "ipython3",
      "version": "3.6.9"
    }
  },
  "nbformat": 4,
  "nbformat_minor": 0
}
